{
 "cells": [
  {
   "cell_type": "code",
   "execution_count": 3,
   "metadata": {},
   "outputs": [
    {
     "name": "stdout",
     "output_type": "stream",
     "text": [
      "Albert Einstein once said,\"A person who never made a mistake never tried anything new\"\n"
     ]
    }
   ],
   "source": [
    "#question number 2(5)\\\n",
    "print('Albert Einstein once said,\"A person who never made a mistake never tried anything new\"')"
   ]
  },
  {
   "cell_type": "code",
   "execution_count": 4,
   "metadata": {},
   "outputs": [
    {
     "name": "stdout",
     "output_type": "stream",
     "text": [
      "enter the name whom you admire most:Albert Einstein\n",
      "Albert Einstein once said, \"A person who never made a mistake never tried anything new\"\n"
     ]
    }
   ],
   "source": [
    "#question number 2(6)\n",
    "\n",
    "famous_person = input(\"enter the name whom you admire most:\")\n",
    "x =('\"A person who never made a mistake never tried anything new\"')\n",
    "print(famous_person,\"once said,\",x)"
   ]
  }
 ],
 "metadata": {
  "kernelspec": {
   "display_name": "Python 3",
   "language": "python",
   "name": "python3"
  },
  "language_info": {
   "codemirror_mode": {
    "name": "ipython",
    "version": 3
   },
   "file_extension": ".py",
   "mimetype": "text/x-python",
   "name": "python",
   "nbconvert_exporter": "python",
   "pygments_lexer": "ipython3",
   "version": "3.7.3"
  }
 },
 "nbformat": 4,
 "nbformat_minor": 2
}

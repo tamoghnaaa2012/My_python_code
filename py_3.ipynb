{
 "cells": [
  {
   "cell_type": "code",
   "execution_count": 1,
   "metadata": {},
   "outputs": [
    {
     "name": "stdout",
     "output_type": "stream",
     "text": [
      "3\n",
      "4.66\n",
      "hey i am tamoghna\n"
     ]
    }
   ],
   "source": [
    "#python program to declare variable\n",
    "myNumber = 3\n",
    "print(myNumber)\n",
    "\n",
    "myNumber2 = 4.66\n",
    "print(myNumber2)\n",
    "\n",
    "myNumber3 = \"hey i am tamoghna\"\n",
    "print(myNumber3)\n"
   ]
  },
  {
   "cell_type": "code",
   "execution_count": 3,
   "metadata": {},
   "outputs": [
    {
     "name": "stdout",
     "output_type": "stream",
     "text": [
      "NISER\n"
     ]
    }
   ],
   "source": [
    "mynumber1 = \"NISER\"\n",
    "print(mynumber1)"
   ]
  },
  {
   "cell_type": "code",
   "execution_count": 7,
   "metadata": {},
   "outputs": [
    {
     "name": "stdout",
     "output_type": "stream",
     "text": [
      "444\n"
     ]
    }
   ],
   "source": [
    "mynumber= 444\n",
    "print(mynumber)"
   ]
  },
  {
   "cell_type": "code",
   "execution_count": 14,
   "metadata": {},
   "outputs": [
    {
     "name": "stdout",
     "output_type": "stream",
     "text": [
      "[21, 22, 123]\n"
     ]
    }
   ],
   "source": [
    "#python program to illustrate list\n",
    "#creates a empty list\n",
    "nums = []\n",
    "\n",
    "#appending data in list\n",
    "nums.append(21)\n",
    "nums.append(22)\n",
    "nums.append(123)\n",
    "#nums.extend([456])\n",
    "print(nums)\n"
   ]
  }
 ],
 "metadata": {
  "kernelspec": {
   "display_name": "Python 3",
   "language": "python",
   "name": "python3"
  },
  "language_info": {
   "codemirror_mode": {
    "name": "ipython",
    "version": 3
   },
   "file_extension": ".py",
   "mimetype": "text/x-python",
   "name": "python",
   "nbconvert_exporter": "python",
   "pygments_lexer": "ipython3",
   "version": "3.7.3"
  }
 },
 "nbformat": 4,
 "nbformat_minor": 2
}

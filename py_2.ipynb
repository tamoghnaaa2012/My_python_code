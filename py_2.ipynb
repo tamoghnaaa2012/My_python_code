{
 "cells": [
  {
   "cell_type": "code",
   "execution_count": 5,
   "metadata": {},
   "outputs": [
    {
     "name": "stdout",
     "output_type": "stream",
     "text": [
      "first number:45.23\n",
      "second number:23.23\n",
      "the sum of 45.23 and 23.23 is 68.46\n"
     ]
    }
   ],
   "source": [
    "#addding two number provided by user input\n",
    "#python3 program to add two numbers\n",
    "num1 = input(\"first number:\")\n",
    "num2 = input(\"second number:\")\n",
    "#ADDING TWO NUMBERS\n",
    "#user might also enter float numbers\n",
    "sum = float(num1)+ float(num2)\n",
    "\n",
    "#display the sum\n",
    "#will print value in float\n",
    "print(\"the sum of {0} and {1} is {2}\" .format(num1,num2,sum))\n"
   ]
  },
  {
   "cell_type": "code",
   "execution_count": null,
   "metadata": {},
   "outputs": [],
   "source": []
  }
 ],
 "metadata": {
  "kernelspec": {
   "display_name": "Python 3",
   "language": "python",
   "name": "python3"
  },
  "language_info": {
   "codemirror_mode": {
    "name": "ipython",
    "version": 3
   },
   "file_extension": ".py",
   "mimetype": "text/x-python",
   "name": "python",
   "nbconvert_exporter": "python",
   "pygments_lexer": "ipython3",
   "version": "3.7.3"
  }
 },
 "nbformat": 4,
 "nbformat_minor": 2
}

{
 "cells": [
  {
   "cell_type": "code",
   "execution_count": 7,
   "metadata": {},
   "outputs": [
    {
     "name": "stdout",
     "output_type": "stream",
     "text": [
      "your name?:Tamoghna Pattanayak\n",
      "my name is Tamoghna Pattanayak\n",
      "what is your mother name:Krishna Pattanayak\n",
      "my mother's name is Krishna Pattanayak\n"
     ]
    }
   ],
   "source": [
    "#question number 2(3)\n",
    "#code for taking data from user\n",
    "name = input(\"your name?:\")\n",
    "print(\"my name is\",name)\n",
    "\n",
    "#practice\n",
    "name = input(\"what is your mother name:\")\n",
    "print(\"my mother's name is\", name)"
   ]
  },
  {
   "cell_type": "code",
   "execution_count": null,
   "metadata": {},
   "outputs": [],
   "source": [
    "#question number 2(1)\n",
    "message = \"Tamoghna\"\n",
    "print (message)\n",
    "\n",
    "#practice\n",
    "message = \"Tamoghna\"\n",
    "print (message)\n",
    "\n",
    "#again practice \n",
    "message = \"i love myself.I want to be a scientist\"\n",
    "print (message)"
   ]
  },
  {
   "cell_type": "code",
   "execution_count": null,
   "metadata": {},
   "outputs": [],
   "source": [
    "#question number 2(4)\n",
    "#Name Cases: Store a person’s name in a variable, and then print that person’s name in lowercase, uppercase, and titlecase .\n",
    "\n",
    "x = input(\"enter your name:\")\n",
    "print(\"my name is\",x)\n",
    "print (\"my name is\",x.upper())\n",
    "print (\"my name is\",x.lower())\n",
    "\n",
    "\n",
    "#practice\n",
    "y = input(\"enter yout sister's name\")\n",
    "print(\"my sister's name is\",y.upper())\n",
    "print(\"my sister's name is\",y.lower())"
   ]
  },
  {
   "cell_type": "code",
   "execution_count": null,
   "metadata": {},
   "outputs": [],
   "source": []
  },
  {
   "cell_type": "code",
   "execution_count": null,
   "metadata": {},
   "outputs": [],
   "source": []
  },
  {
   "cell_type": "code",
   "execution_count": null,
   "metadata": {},
   "outputs": [],
   "source": []
  }
 ],
 "metadata": {
  "kernelspec": {
   "display_name": "Python 3",
   "language": "python",
   "name": "python3"
  },
  "language_info": {
   "codemirror_mode": {
    "name": "ipython",
    "version": 3
   },
   "file_extension": ".py",
   "mimetype": "text/x-python",
   "name": "python",
   "nbconvert_exporter": "python",
   "pygments_lexer": "ipython3",
   "version": "3.7.3"
  }
 },
 "nbformat": 4,
 "nbformat_minor": 2
}

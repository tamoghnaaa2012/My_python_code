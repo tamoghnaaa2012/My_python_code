{
 "cells": [
  {
   "cell_type": "code",
   "execution_count": 1,
   "metadata": {},
   "outputs": [
    {
     "name": "stdout",
     "output_type": "stream",
     "text": [
      "enter your name:Tamoghna\n",
      "hello Tamoghna\n"
     ]
    }
   ],
   "source": [
    "#in this section,we will learn how to take input from the user and hence manipulate it or simply display it.\n",
    "#getting input from user\n",
    "\n",
    "name = input(\"enter your name:\")\n",
    "\n",
    "#user enter the name 'Tamoghna'\n",
    "print (\"hello\",name)"
   ]
  },
  {
   "cell_type": "code",
   "execution_count": 3,
   "metadata": {},
   "outputs": [
    {
     "name": "stdout",
     "output_type": "stream",
     "text": [
      "enter your name:Tamoghna\n",
      "I am Tamoghna\n"
     ]
    }
   ],
   "source": [
    "#again write a code for user\n",
    "#again\n",
    "name = input(\"enter your name:\")\n",
    "print (\"I am\", name)"
   ]
  },
  {
   "cell_type": "code",
   "execution_count": 4,
   "metadata": {},
   "outputs": [
    {
     "name": "stdout",
     "output_type": "stream",
     "text": [
      "enter your gender:male\n",
      "i am male\n"
     ]
    }
   ],
   "source": [
    "#new code of taking input from user\n",
    "\n",
    "gender = input(\"enter your gender:\")\n",
    "print (\"i am\", gender)"
   ]
  },
  {
   "cell_type": "code",
   "execution_count": 7,
   "metadata": {},
   "outputs": [
    {
     "name": "stdout",
     "output_type": "stream",
     "text": [
      "enter your variable x:National Institute of science Education and Research\n",
      "my college is National Institute of science Education and Research\n",
      "enter your variable y:first year student.\n",
      "i am a first year student.\n"
     ]
    }
   ],
   "source": [
    "#new one\n",
    "x = input(\"enter your variable x:\")\n",
    "print (\"my college is\", x)\n",
    "y = input(\"enter your variable y:\")\n",
    "print (\"i am a\", y)"
   ]
  },
  {
   "cell_type": "code",
   "execution_count": 11,
   "metadata": {},
   "outputs": [
    {
     "name": "stdout",
     "output_type": "stream",
     "text": [
      "enter your school name:Bradley Birt\n",
      "enter your college name:NISER\n",
      "my school is Bradley Birt ____my college is NISER\n"
     ]
    }
   ],
   "source": [
    "#again new code\n",
    "x = input(\"enter your school name:\")\n",
    "y = input (\"enter your college name:\")\n",
    "print (\"my school is\",x,\"____my college is\",y)\n"
   ]
  },
  {
   "cell_type": "code",
   "execution_count": null,
   "metadata": {},
   "outputs": [],
   "source": []
  }
 ],
 "metadata": {
  "kernelspec": {
   "display_name": "Python 3",
   "language": "python",
   "name": "python3"
  },
  "language_info": {
   "codemirror_mode": {
    "name": "ipython",
    "version": 3
   },
   "file_extension": ".py",
   "mimetype": "text/x-python",
   "name": "python",
   "nbconvert_exporter": "python",
   "pygments_lexer": "ipython3",
   "version": "3.7.3"
  }
 },
 "nbformat": 4,
 "nbformat_minor": 2
}
